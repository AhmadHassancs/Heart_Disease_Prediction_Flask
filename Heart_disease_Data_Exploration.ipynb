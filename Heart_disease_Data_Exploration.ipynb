{
 "cells": [
  {
   "cell_type": "markdown",
   "metadata": {},
   "source": [
    "# Heart Disease Prediction Project (Data Exploration)"
   ]
  },
  {
   "cell_type": "markdown",
   "metadata": {},
   "source": [
    "### Dataset\n",
    "\n",
    "The dataset has 14 attributes:\n",
    " \n",
    "* **age:** age in years.\n",
    "\n",
    "* **sex:** sex (1 = male; 0 = female).\n",
    "\n",
    "* **cp:** chest pain type (Value 0: typical angina; Value 1: atypical angina; Value 2: non-anginal pain; Value 3: asymptomatic).\n",
    "\n",
    "* **trestbps:** resting blood pressure in mm Hg on admission to the hospital.\n",
    "\n",
    "* **chol:** serum cholestoral in mg/dl.\n",
    "\n",
    "* **fbs:** fasting blood sugar > 120 mg/dl (1 = true; 0 = false).\n",
    "\n",
    "* **restecg:** resting electrocardiographic results (Value 0: normal; Value 1: having ST-T wave abnormality; Value 2: probable or definite left ventricular hypertrophy).\n",
    "\n",
    "* **thalach:** maximum heart rate achieved.\n",
    "\n",
    "* **exang:** exercise induced angina (1 = yes; 0 = no)\n",
    "\n",
    "* **oldpeak:** ST depression induced by exercise relative to rest.\n",
    "\n",
    "* **slope:** the slope of the peak exercise ST segment (Value 0: upsloping; Value 1: flat; Value 2: downsloping).\n",
    "\n",
    "* **ca:** number of major vessels (0-3) colored by flourosopy.\n",
    "\n",
    "* **thal:** thalassemia (3 = normal; 6 = fixed defect; 7 = reversable defect).\n",
    "\n",
    "* **target:** heart disease (1 = no, 2 = yes)\n"
   ]
  },
  {
   "cell_type": "code",
   "execution_count": null,
   "metadata": {},
   "outputs": [],
   "source": [
    "# Import required libraries\n",
    "\n",
    "import pandas as pd\n",
    "import numpy as np\n",
    "\n",
    "# for plotting\n",
    "import matplotlib.pyplot as plt\n",
    "%matplotlib inline\n",
    "\n",
    "import seaborn as sns\n",
    "import re\n",
    "\n",
    "# for plotting \n",
    "from plotly.offline import iplot\n",
    "import plotly as py\n",
    "import plotly.tools as tls"
   ]
  },
  {
   "cell_type": "code",
   "execution_count": null,
   "metadata": {},
   "outputs": [],
   "source": [
    "# Read data in the excel file\n",
    "df = pd.read_csv('data.csv')\n",
    "\n",
    "# show the first five rows of the dataframe\n",
    "df.head()"
   ]
  },
  {
   "cell_type": "code",
   "execution_count": null,
   "metadata": {},
   "outputs": [],
   "source": [
    "# shape of the dataframe (rows and columns)\n",
    "df.shape"
   ]
  },
  {
   "cell_type": "code",
   "execution_count": null,
   "metadata": {},
   "outputs": [],
   "source": [
    "# provides all the information about the dataset. (checks for errors or null values as well)\n",
    "df.info()"
   ]
  },
  {
   "cell_type": "code",
   "execution_count": null,
   "metadata": {},
   "outputs": [],
   "source": [
    "# Description of the dataframe(mean, median, minimum value, maximum value etc)\n",
    "df.describe()"
   ]
  },
  {
   "cell_type": "code",
   "execution_count": null,
   "metadata": {},
   "outputs": [],
   "source": [
    "# Check for null values\n",
    "df.isnull().sum()"
   ]
  },
  {
   "cell_type": "code",
   "execution_count": null,
   "metadata": {},
   "outputs": [],
   "source": [
    "# target is heart disease (1 = no, 2 = yes) (number of people with and without heart disease)\n",
    "df['target'].value_counts()"
   ]
  },
  {
   "cell_type": "code",
   "execution_count": null,
   "metadata": {},
   "outputs": [],
   "source": [
    "# Percentage of patients with and without heart disease\n",
    "df['target'].value_counts()/df.shape[0]*100 "
   ]
  },
  {
   "cell_type": "code",
   "execution_count": null,
   "metadata": {},
   "outputs": [],
   "source": [
    "# Create a plot to display the percentage of the positive and negative heart disease \n",
    "labels = ['yes', 'No']\n",
    "values = df['target'].value_counts().values\n",
    "\n",
    "plt.pie(values, labels=labels, autopct='%1.0f%%')\n",
    "plt.title('Heart Disease')\n",
    "plt.show()"
   ]
  },
  {
   "cell_type": "markdown",
   "metadata": {},
   "source": [
    "**Note:**\n",
    "\n",
    "As you can see, the dataset contains 14 columns 5 of them are numerical values and 9 of them are categorical values. We can see also there are no missing values in this dataset. As for the data balancing, the data is relatively balanced, 56% of the persons in the dataset have heart disease."
   ]
  },
  {
   "cell_type": "markdown",
   "metadata": {},
   "source": [
    "### Attributes Correlation"
   ]
  },
  {
   "cell_type": "code",
   "execution_count": null,
   "metadata": {},
   "outputs": [],
   "source": [
    "# Correlation (the relationship between the columns of the dataset) map\n",
    "plt.figure(figsize=(15, 15))\n",
    "\n",
    "sns.heatmap(df.corr(), annot = True, cmap = \"Blues\")\n",
    "plt.show()"
   ]
  },
  {
   "cell_type": "markdown",
   "metadata": {},
   "source": [
    "**Note:**\n",
    "\n",
    "From the above correlation plot, the chest pain type (cp), exercise induced angina (exang), ST depression induced by exercise relative to rest (oldpeak), the slope of the peak exercise ST segment (slope), number of major vessels (0-3) colored by flourosopy (ca) and thalassemia (thal) are correlated with the heart disease (target) directly.  We see also that there is an inverse proportion between the heart disease and maximum heart rate (thalch).\n",
    "\n",
    "We can see also, there are a relation between the following attributes:\n",
    "\n",
    "* The number of major vessels (0-3) colored by flourosopy (ca) and the age.\n",
    "* ST depression induced by exercise relative to rest (oldpeak) and the slope of the peak exercise ST segment (slope).\n",
    "* The chest pain type (cp), exercise induced angina (exang).\n",
    "* maximum heart rate (thalch) and the age.\n",
    "\n",
    "\n",
    "Next, I will explore each attribute and then explore the found correlations."
   ]
  },
  {
   "cell_type": "markdown",
   "metadata": {},
   "source": [
    "### Age Exploration"
   ]
  },
  {
   "cell_type": "code",
   "execution_count": null,
   "metadata": {},
   "outputs": [],
   "source": [
    "# Display age distribution\n",
    "df['age'].plot(kind = 'hist', title = 'Age Distribution')\n",
    "\n",
    "plt.show()"
   ]
  },
  {
   "cell_type": "code",
   "execution_count": null,
   "metadata": {},
   "outputs": [],
   "source": [
    "# Get minimun, maximum and average of the age\n",
    "print('Min age: ', min(df['age']))\n",
    "\n",
    "print('Max age: ', max(df['age']))\n",
    "print('Average age: ', df['age'].mean())"
   ]
  },
  {
   "cell_type": "code",
   "execution_count": null,
   "metadata": {},
   "outputs": [],
   "source": [
    "# Display age distribution based on heart disease\n",
    "sns.distplot(df[df['target'] == 1]['age'], label='Do not have heart disease')\n",
    "sns.distplot(df[df['target'] == 2]['age'], label = 'Have heart disease')\n",
    "\n",
    "plt.xlabel('Frequency')\n",
    "plt.ylabel('Age')\n",
    "\n",
    "plt.title('Age Distribution based on Heart Disease')\n",
    "plt.legend()\n",
    "\n",
    "plt.show()"
   ]
  },
  {
   "cell_type": "code",
   "execution_count": null,
   "metadata": {},
   "outputs": [],
   "source": [
    "# Get minimum, maximum and average age of the people that do not have heart diseas\n",
    "\n",
    "print('Min age of people who do not have heart disease: ', min(df[df['target'] == 1]['age']))\n",
    "\n",
    "print('Max age of people who do not have heart disease: ', max(df[df['target'] == 1]['age']))\n",
    "\n",
    "print('Average age of people who do not have heart disease: ', df[df['target'] == 1]['age'].mean())"
   ]
  },
  {
   "cell_type": "code",
   "execution_count": null,
   "metadata": {},
   "outputs": [],
   "source": [
    "# Get minimum, maximum and average age of the people that have heart diseas\n",
    "\\\n",
    "print('Min age of people who have heart disease: ', min(df[df['target'] == 2]['age']))\n",
    "\n",
    "print('Max age of people who have heart disease: ', max(df[df['target'] == 2]['age']))\n",
    "\n",
    "print('Average age of people who have heart disease: ', df[df['target'] == 2]['age'].mean())"
   ]
  },
  {
   "cell_type": "markdown",
   "metadata": {},
   "source": [
    "**Note:**\n",
    "\n",
    "From the data, I can say that the heart disease infects the old and young people, and the probability of the old people te be infected is higher than young people.  "
   ]
  },
  {
   "cell_type": "markdown",
   "metadata": {},
   "source": [
    "### Gender Exploration"
   ]
  },
  {
   "cell_type": "code",
   "execution_count": null,
   "metadata": {},
   "outputs": [],
   "source": [
    "# Number of males and females in the dataset\n",
    "F = df[df['sex'] == 0].count()['target']\n",
    "M = df[df['sex'] == 1].count()['target']\n",
    "\n",
    "# Create a plot\n",
    "figure, ax = plt.subplots(figsize = (6, 4))\n",
    "ax.bar(x = ['Female', 'Male'], height = [F, M])\n",
    "\n",
    "plt.xlabel('Gender')\n",
    "plt.title('Number of Males and Females in the dataset')\n",
    "\n",
    "plt.show()"
   ]
  },
  {
   "cell_type": "markdown",
   "metadata": {},
   "source": [
    "### Chest Pain Type Exploration"
   ]
  },
  {
   "cell_type": "code",
   "execution_count": null,
   "metadata": {},
   "outputs": [],
   "source": [
    "# Display chest pain types in bar chart\n",
    "df.groupby(df['cp']).count()['target'].plot(kind = 'bar', title = 'Chest Pain Types', figsize = (8, 6))\n",
    "\n",
    "plt.xlabel('Chest Pain Types')\n",
    "plt.xticks(np.arange(4), ('typical angina', 'atypical angina', 'non-anginal pain', 'asymptomatic'), rotation = 0)\n",
    "\n",
    "plt.show()"
   ]
  },
  {
   "cell_type": "code",
   "execution_count": null,
   "metadata": {},
   "outputs": [],
   "source": [
    "# Display chest pain types based on the target(people having heart disease and people not having heart disease)\n",
    "pd.crosstab(df.cp,df.target).plot(kind = \"bar\", figsize = (8, 6))\n",
    "\n",
    "plt.title('Heart Disease Frequency According to Chest Pain Type')\n",
    "plt.xlabel('Chest Pain Type')\n",
    "\n",
    "plt.xticks(np.arange(4), ('typical angina', 'atypical angina', 'non-anginal pain', 'asymptomatic'), rotation = 0)\n",
    "plt.ylabel('Frequency')\n",
    "\n",
    "plt.show()"
   ]
  },
  {
   "cell_type": "markdown",
   "metadata": {},
   "source": [
    "**Note:**\n",
    "\n",
    "We can see that most of the people with heart disease have asymptomatic chest pain."
   ]
  },
  {
   "cell_type": "markdown",
   "metadata": {},
   "source": [
    "### Blood Pressure Exploration "
   ]
  },
  {
   "cell_type": "code",
   "execution_count": null,
   "metadata": {},
   "outputs": [],
   "source": [
    "# Display blood pressure distribution\n",
    "df['trestbps'].plot(kind = 'hist', title = 'Blood Pressure in mm Hg', figsize = (8, 6))\n",
    "plt.show()"
   ]
  },
  {
   "cell_type": "code",
   "execution_count": null,
   "metadata": {},
   "outputs": [],
   "source": [
    "# Display blood pressure distribution based on heart disease\n",
    "fig, (axis1, axis2) = plt.subplots(1, 2,figsize=(25, 5))\n",
    "ax = sns.distplot(df[df['target'] == 1]['trestbps'], label='Do not have heart disease', ax = axis1)\n",
    "\n",
    "ax.set(xlabel='People Do Not Have Heart Disease')\n",
    "ax = sns.distplot(df[df['target'] == 2]['trestbps'], label = 'Have heart disease', ax = axis2)\n",
    "\n",
    "ax.set(xlabel='People Have Heart Disease')\n",
    "plt.show()"
   ]
  },
  {
   "cell_type": "code",
   "execution_count": null,
   "metadata": {},
   "outputs": [],
   "source": [
    "# Get min, max and average of the  blood pressure of the people do not have heart diseas\n",
    "print('Min blood pressure of people who do not have heart disease: ', min(df[df['target'] == 1]['trestbps']))\n",
    "\n",
    "print('Max blood pressure of people who do not have heart disease: ', max(df[df['target'] == 1]['trestbps']))\n",
    "\n",
    "print('Average blood pressure of people who do not have heart disease: ', df[df['target'] == 1]['trestbps'].mean())"
   ]
  },
  {
   "cell_type": "code",
   "execution_count": null,
   "metadata": {},
   "outputs": [],
   "source": [
    "# Get min, max and average of the blood pressure of the people have heart diseas\n",
    "print('Min blood pressure of people who have heart disease: ', min(df[df['target'] == 2]['trestbps']))\n",
    "\n",
    "print('Max blood pressure of people who have heart disease: ', max(df[df['target'] == 2]['trestbps']))\n",
    "\n",
    "print('Average blood pressure of people who have heart disease: ', df[df['target'] == 2]['trestbps'].mean())"
   ]
  },
  {
   "cell_type": "markdown",
   "metadata": {},
   "source": [
    "### Cholestoral Exploration "
   ]
  },
  {
   "cell_type": "code",
   "execution_count": null,
   "metadata": {},
   "outputs": [],
   "source": [
    "# Display Cholestoral distribution\n",
    "df['chol'].plot(kind = 'hist', title = 'Serum Cholestoral in mg/dl', figsize = (8, 6))\n",
    "plt.show()"
   ]
  },
  {
   "cell_type": "code",
   "execution_count": null,
   "metadata": {},
   "outputs": [],
   "source": [
    "# Display Cholestoral distribution based on heart disease\n",
    "fig, (axis1, axis2) = plt.subplots(1, 2, figsize=(25, 5))\n",
    "\n",
    "ax = sns.distplot(df[df['target'] == 1]['chol'], label='Do not have heart disease', ax = axis1)\n",
    "ax.set(xlabel='People Do Not Have Heart Disease')\n",
    "\n",
    "ax = sns.distplot(df[df['target'] == 2]['chol'], label = 'Have heart disease', ax = axis2)\n",
    "ax.set(xlabel='People Have Heart Disease')\n",
    "\n",
    "plt.show()"
   ]
  },
  {
   "cell_type": "code",
   "execution_count": null,
   "metadata": {},
   "outputs": [],
   "source": [
    "# Get min, max and average of the Cholestoral of the people do not have heart diseas\n",
    "print('Min cholestoral of people who do not have heart disease: ', min(df[df['target'] == 1]['chol']))\n",
    "\n",
    "print('Max cholestoral of people who do not have heart disease: ', max(df[df['target'] == 1]['chol']))\n",
    "\n",
    "print('Average cholestoral of people who do not have heart disease: ', df[df['target'] == 1]['chol'].mean())"
   ]
  },
  {
   "cell_type": "code",
   "execution_count": null,
   "metadata": {},
   "outputs": [],
   "source": [
    "# Get min, max and average of the Cholestoral of the people have heart diseas\n",
    "print('Min cholestoral of people who have heart disease: ', min(df[df['target'] == 2]['chol']))\n",
    "\n",
    "print('Max cholestoral of people who have heart disease: ', max(df[df['target'] == 2]['chol']))\n",
    "\n",
    "print('Average cholestorale of people who have heart disease: ', df[df['target'] == 2]['chol'].mean())"
   ]
  },
  {
   "cell_type": "markdown",
   "metadata": {},
   "source": [
    "### Fasting Blood Sugar  Exploration "
   ]
  },
  {
   "cell_type": "code",
   "execution_count": null,
   "metadata": {},
   "outputs": [],
   "source": [
    "# Display fasting blood sugar in bar chart\n",
    "df.groupby(df['fbs']).count()['target'].plot(kind = 'bar', title = 'Fasting Blood Sugar', figsize = (8, 6))\n",
    "\n",
    "plt.xticks(np.arange(2), ('fbs < 120 mg/dl', 'fbs > 120 mg/dl'), rotation = 0)\n",
    "plt.show()"
   ]
  },
  {
   "cell_type": "code",
   "execution_count": null,
   "metadata": {},
   "outputs": [],
   "source": [
    "# Display fasting blood sugar based on the target\n",
    "pd.crosstab(df.fbs,df.target).plot(kind = \"bar\", figsize = (8, 6))\n",
    "\n",
    "plt.title('Heart Disease Frequency According to Fasting Blood Sugar')\n",
    "plt.xlabel('Fasting Blood Sugar')\n",
    "\n",
    "plt.xticks(np.arange(2), ('fbs < 120 mg/dl', 'fbs > 120 mg/dl'), rotation = 0)\n",
    "plt.ylabel('Frequency')\n",
    "\n",
    "plt.show()"
   ]
  },
  {
   "cell_type": "markdown",
   "metadata": {},
   "source": [
    "###  Electrocardiographic Results Exploration"
   ]
  },
  {
   "cell_type": "code",
   "execution_count": null,
   "metadata": {},
   "outputs": [],
   "source": [
    "# Display electrocardiographic results in bar chart\n",
    "df.groupby(df['restecg']).count()['target'].plot(kind = 'bar', \n",
    "                                                 title = 'Resting Electrocardiographic Results', figsize = (8, 6))\n",
    "\n",
    "plt.xticks(np.arange(3), ('normal', 'ST-T wave abnormality', 'probable or left ventricular hypertrophy'))\n",
    "\n",
    "plt.show()"
   ]
  },
  {
   "cell_type": "code",
   "execution_count": null,
   "metadata": {},
   "outputs": [],
   "source": [
    "# Display resting electrocardiographic results based on the target\n",
    "pd.crosstab(df.restecg,df.target).plot(kind = \"bar\", figsize = (8, 6))\n",
    "\n",
    "plt.title('Heart Disease Frequency According to Resting Electrocardiographic Results')\n",
    "plt.xticks(np.arange(3), ('normal', 'ST-T wave abnormality', 'probable or left ventricular hypertrophy'))\n",
    "\n",
    "plt.xlabel('Resting Electrocardiographic Results')\n",
    "plt.ylabel('Frequency')\n",
    "\n",
    "plt.show()"
   ]
  },
  {
   "cell_type": "markdown",
   "metadata": {},
   "source": [
    "**Note:**\n",
    "\n",
    "Usually the people who do not have heart disease have normal electrocardiographic, whereas the people who have heart disease have probable or left ventricular hypertrophy."
   ]
  },
  {
   "cell_type": "markdown",
   "metadata": {},
   "source": [
    "### Maximum Heart Rate Exploration"
   ]
  },
  {
   "cell_type": "code",
   "execution_count": null,
   "metadata": {},
   "outputs": [],
   "source": [
    "# Display maximum heart rate distribution\n",
    "df['thalach'].plot(kind = 'hist', title = 'Maximum Heart Rate Achieved', figsize = (8, 6))\n",
    "plt.show()"
   ]
  },
  {
   "cell_type": "code",
   "execution_count": null,
   "metadata": {},
   "outputs": [],
   "source": [
    "# Display maximum heart rate distribution based on heart disease\n",
    "fig, (axis1, axis2) = plt.subplots(1, 2, figsize=(25, 5))\n",
    "\n",
    "ax = sns.distplot(df[df['target'] == 1]['thalach'], label='Do not have heart disease', ax = axis1)\n",
    "ax.set(xlabel = 'People Do Not Have Heart Disease')\n",
    "\n",
    "ax = sns.distplot(df[df['target'] == 2]['thalach'], label = 'Have heart disease', ax = axis2)\n",
    "ax.set(xlabel = 'People Have Heart Disease')\n",
    "\n",
    "plt.show()"
   ]
  },
  {
   "cell_type": "code",
   "execution_count": null,
   "metadata": {},
   "outputs": [],
   "source": [
    "# Get min, max and average of the maximum heart rate of the people do not have heart diseas\n",
    "print('Min resting blood pressure of people who do not have heart disease: ', min(df[df['target'] == 1]['thalach']))\n",
    "\n",
    "print('Max resting blood pressure of people who do not have heart disease: ', max(df[df['target'] == 1]['thalach']))\n",
    "\n",
    "print('Average resting blood pressure of people who do not have heart disease: ', df[df['target'] == 1]['thalach'].mean())"
   ]
  },
  {
   "cell_type": "code",
   "execution_count": null,
   "metadata": {},
   "outputs": [],
   "source": [
    "# Get min, max and average of the maximum heart rate of the people have heart diseas\n",
    "print('Min maximum heart rate  of people who have heart disease: ', min(df[df['target'] == 2]['thalach']))\n",
    "\n",
    "print('Max maximum heart rate people who have heart disease: ', max(df[df['target'] == 2]['thalach']))\n",
    "\n",
    "print('Average maximum heart rate of people who have heart disease: ', df[df['target'] == 2]['thalach'].mean())"
   ]
  },
  {
   "cell_type": "markdown",
   "metadata": {},
   "source": [
    "**Note:**\n",
    "\n",
    "The people who have heigh heart rate greater than 150 are more likely to have heart disease."
   ]
  },
  {
   "cell_type": "markdown",
   "metadata": {},
   "source": [
    "### Exercise Induced Angina Exploration"
   ]
  },
  {
   "cell_type": "code",
   "execution_count": null,
   "metadata": {},
   "outputs": [],
   "source": [
    "# Display exercise induced angina in bar chart\n",
    "df.groupby(df['exang']).count()['target'].plot(kind = 'bar', title = 'Exercise Induced Angina',  figsize = (8, 6))\n",
    "\n",
    "plt.xticks(np.arange(2), ('No', 'Yes'), rotation = 0)\n",
    "plt.show()"
   ]
  },
  {
   "cell_type": "code",
   "execution_count": null,
   "metadata": {},
   "outputs": [],
   "source": [
    "# Display exercise induced angina based on the target\n",
    "pd.crosstab(df.exang,df.target).plot(kind = \"bar\", figsize = (8, 6))\n",
    "\n",
    "plt.title('Heart Disease Frequency According to Exercise Induced Angina')\n",
    "plt.xlabel('Exercise Induced Angina')\n",
    "\n",
    "plt.xticks(np.arange(2), ('No', 'Yes'), rotation = 0)\n",
    "plt.ylabel('Frequency')\n",
    "\n",
    "plt.show()"
   ]
  },
  {
   "cell_type": "markdown",
   "metadata": {},
   "source": [
    "**Note:**\n",
    "\n",
    "The people who suffer from exercise induced angina are more likely to likely to be infected with the heart disease."
   ]
  },
  {
   "cell_type": "markdown",
   "metadata": {},
   "source": [
    "### ST depression Exploration"
   ]
  },
  {
   "cell_type": "code",
   "execution_count": null,
   "metadata": {},
   "outputs": [],
   "source": [
    "# Display ST depression induced by exercise relative to rest distribution\n",
    "df['oldpeak'].plot(kind = 'hist', title = 'ST Depression Induced by Exercise Relative to Rest', figsize = (8, 6))\n",
    "plt.show()"
   ]
  },
  {
   "cell_type": "code",
   "execution_count": null,
   "metadata": {},
   "outputs": [],
   "source": [
    "# Display ST depression distribution based on heart disease\n",
    "fig, (axis1, axis2) = plt.subplots(1, 2, figsize=(25, 5))\n",
    "\n",
    "ax = sns.distplot(df[df['target'] == 1]['oldpeak'], label='Do not have heart disease', ax = axis1)\n",
    "ax.set(xlabel = 'People Do Not Have Heart Disease')\n",
    "\n",
    "ax = sns.distplot(df[df['target'] == 2]['oldpeak'], label = 'Have heart disease', ax = axis2)\n",
    "ax.set(xlabel = 'People Have Heart Disease')\n",
    "\n",
    "plt.show()"
   ]
  },
  {
   "cell_type": "code",
   "execution_count": null,
   "metadata": {},
   "outputs": [],
   "source": [
    "# Get min, max and average of the ST depression  of the people have heart diseas\n",
    "print('Min ST depression of people who do not have heart disease: ', min(df[df['target'] == 1]['oldpeak']))\n",
    "\n",
    "print('Max ST depression of people who do not have heart disease: ', max(df[df['target'] == 1]['oldpeak']))\n",
    "\n",
    "print('Average ST depression of people who do not have heart disease: ', df[df['target'] == 1]['oldpeak'].mean())"
   ]
  },
  {
   "cell_type": "code",
   "execution_count": null,
   "metadata": {},
   "outputs": [],
   "source": [
    "# Get min, max and average of the ST depression of the people have heart diseas\n",
    "print('Min ST depression of people who have heart disease: ', min(df[df['target'] == 2]['oldpeak']))\n",
    "\n",
    "print('Max ST depression of people who have heart disease: ', max(df[df['target'] == 2]['oldpeak']))\n",
    "\n",
    "print('Average ST depression of people not have heart disease: ', df[df['target'] == 2]['oldpeak'].mean())"
   ]
  },
  {
   "cell_type": "markdown",
   "metadata": {},
   "source": [
    "**Note:**\n",
    "\n",
    "The average ST depression of people who do not have heart disease is 0.6 and the average ST depression of people have heart disease is 1.5. "
   ]
  },
  {
   "cell_type": "markdown",
   "metadata": {},
   "source": [
    "### Slope Exploration"
   ]
  },
  {
   "cell_type": "code",
   "execution_count": null,
   "metadata": {},
   "outputs": [],
   "source": [
    "# Display slope of the peak exercise ST segment in bar chart\n",
    "df.groupby(df['slope']).count()['target'].plot(kind = 'bar', title = 'Slope of the Peak Exercise ST Segment', figsize = (8, 6))\n",
    "\n",
    "plt.xticks(np.arange(3), ('upsloping', 'flat', 'downsloping'), rotation = 0)\n",
    "plt.show()"
   ]
  },
  {
   "cell_type": "code",
   "execution_count": null,
   "metadata": {},
   "outputs": [],
   "source": [
    "# Display slope of the peak exercise ST segment based on the target\n",
    "pd.crosstab(df.slope,df.target).plot(kind = \"bar\", figsize = (8, 6))\n",
    "\n",
    "plt.title('Heart Disease Frequency According to Slope of the Peak Exercise ST Segment')\n",
    "plt.xlabel('Slope')\n",
    "\n",
    "plt.xticks(np.arange(3), ('upsloping', 'flat', 'downsloping'), rotation = 0)\n",
    "plt.ylabel('Frequency')\n",
    "\n",
    "plt.show()"
   ]
  },
  {
   "cell_type": "markdown",
   "metadata": {},
   "source": [
    "**Note:**\n",
    "\n",
    "As it is clear, the people with flat peak ST segment are likely to have heart disease and usually the people who do not have heart disease have upsloping peak ST segment."
   ]
  },
  {
   "cell_type": "markdown",
   "metadata": {},
   "source": [
    "### Major Vessels Exploration"
   ]
  },
  {
   "cell_type": "code",
   "execution_count": null,
   "metadata": {},
   "outputs": [],
   "source": [
    "# Display number of major vessels in bar chart\n",
    "df.groupby(df['ca']).count()['target'].plot(kind = 'bar', \n",
    "                                            title = 'Number of Major Vessels Colored by Flourosopy', figsize = (8, 6))\n",
    "plt.show()"
   ]
  },
  {
   "cell_type": "code",
   "execution_count": null,
   "metadata": {},
   "outputs": [],
   "source": [
    "# Display number of vessels based on the target\n",
    "pd.crosstab(df.ca,df.target).plot(kind = \"bar\", figsize = (8, 6))\n",
    "\n",
    "plt.title('Heart Disease Frequency According to Number of Major Vessels Colored by Flourosopy')\n",
    "plt.xlabel('number of vessels')\n",
    "\n",
    "plt.xticks(rotation = 0)\n",
    "plt.ylabel('Frequency')\n",
    "\n",
    "plt.show()"
   ]
  },
  {
   "cell_type": "markdown",
   "metadata": {},
   "source": [
    "**Note:**\n",
    "\n",
    "As it is clear, the people who do not have heart disease usually do not have major vessels colored by flourosopy."
   ]
  },
  {
   "cell_type": "markdown",
   "metadata": {},
   "source": [
    "### Thalassemia Exploration"
   ]
  },
  {
   "cell_type": "code",
   "execution_count": null,
   "metadata": {},
   "outputs": [],
   "source": [
    "# Display thalassemia in bar chart\n",
    "df.groupby(df['thal']).count()['target'].plot(kind = 'bar', title = 'Thalassemia')\n",
    "\n",
    "plt.xticks(np.arange(3), ('normal', 'fixed defect', 'reversible defect'), rotation = 0)\n",
    "plt.show()"
   ]
  },
  {
   "cell_type": "code",
   "execution_count": null,
   "metadata": {},
   "outputs": [],
   "source": [
    "# Frequency of heart disease based on thalassemia\n",
    "pd.crosstab(df.thal,df.target).plot(kind = \"bar\", figsize = (8, 6))\n",
    "\n",
    "plt.title('Heart Disease Frequency According to Thalassemia')\n",
    "plt.xlabel('Thalassemia')\n",
    "\n",
    "plt.xticks(np.arange(3), ('normal', 'fixed defect', 'reversible defect'), rotation = 0)\n",
    "plt.ylabel('Frequency')\n",
    "\n",
    "plt.show()"
   ]
  },
  {
   "cell_type": "markdown",
   "metadata": {},
   "source": [
    "**Note:**\n",
    "\n",
    "As it is clear, the people with reversible defect are likely to have heart disease."
   ]
  },
  {
   "cell_type": "markdown",
   "metadata": {},
   "source": [
    "### The correlation between heart disease, cp and exang"
   ]
  },
  {
   "cell_type": "code",
   "execution_count": null,
   "metadata": {},
   "outputs": [],
   "source": [
    "# exercise induced angina for poeple with and without heart disease\n",
    "g = sns.factorplot(\"cp\", col = \"exang\", col_wrap = 3, data = df[df['target'] == 1], kind = \"count\")\n",
    "\n",
    "plt.xticks(np.arange(4), ('typical angina', 'atypical angina', 'non-anginal pain', 'asymptomatic'), rotation = 0)\n",
    "g.fig.suptitle('People without Heart Disease', y = 1.1)\n",
    "\n",
    "plt.show()"
   ]
  },
  {
   "cell_type": "code",
   "execution_count": null,
   "metadata": {},
   "outputs": [],
   "source": [
    "g = sns.factorplot(\"cp\", col = \"exang\", col_wrap = 3, data = df[df['target'] == 2], kind = \"count\")\n",
    "plt.xticks(np.arange(4), ('typical angina', 'atypical angina', 'non-anginal pain', 'asymptomatic'), rotation = 0)\n",
    "\n",
    "g.fig.suptitle('People with Heart Disease', y = 1.1)\n",
    "plt.show()"
   ]
  },
  {
   "cell_type": "markdown",
   "metadata": {},
   "source": [
    "**Note:**\n",
    "\n",
    "The people who have exercise induced angina, they usually suffer from asymptomatic chest pain. Moreover, the people who do not have exercise induced angina, they usually suffer from asymptomatic chest pain if they have heart disease.\n"
   ]
  },
  {
   "cell_type": "markdown",
   "metadata": {},
   "source": [
    "### The correlation between oldpeak, slope and target"
   ]
  },
  {
   "cell_type": "code",
   "execution_count": null,
   "metadata": {},
   "outputs": [],
   "source": [
    "sns.catplot(x = \"slope\", y = \"oldpeak\", hue = \"target\", data = df)\n",
    "plt.title('The correlation between oldpeak and slope')\n",
    "\n",
    "plt.xticks(np.arange(3), ('upsloping', 'flat', 'downsloping'), rotation = 0)\n",
    "plt.show()"
   ]
  },
  {
   "cell_type": "markdown",
   "metadata": {},
   "source": [
    "**Note:**\n",
    "\n",
    "Flat slope and downsloping have higher values of ST depression."
   ]
  },
  {
   "cell_type": "markdown",
   "metadata": {},
   "source": [
    "### The correlation between ca and age"
   ]
  },
  {
   "cell_type": "code",
   "execution_count": null,
   "metadata": {},
   "outputs": [],
   "source": [
    "g = sns.catplot(x = 'ca', y = 'age', hue = 'target', data = df, kind=\"swarm\")\n",
    "g.fig.suptitle('The correlation between number of major vessels colored by flourosopy and age', y = 1.1)\n",
    "\n",
    "plt.show()"
   ]
  },
  {
   "cell_type": "markdown",
   "metadata": {},
   "source": [
    "**Note:**\n",
    "\n",
    "The older people are more likely to have vessels colored by flourosopy."
   ]
  },
  {
   "cell_type": "markdown",
   "metadata": {},
   "source": [
    "### The correlation between age and thalach"
   ]
  },
  {
   "cell_type": "code",
   "execution_count": null,
   "metadata": {},
   "outputs": [],
   "source": [
    "sns.relplot(x = 'age', y = 'thalach', data = df, hue = 'target', legend=\"full\")\n",
    "plt.title('The correlation between age and heart rate')\n",
    "\n",
    "plt.show()"
   ]
  },
  {
   "cell_type": "markdown",
   "metadata": {},
   "source": [
    "**Note:**\n",
    "\n",
    "The older the person, the lower the heart rate. Also, the people with lower heart rate are likely to have heart disease. "
   ]
  }
 ],
 "metadata": {
  "kernelspec": {
   "display_name": "Python 3",
   "language": "python",
   "name": "python3"
  },
  "language_info": {
   "codemirror_mode": {
    "name": "ipython",
    "version": 3
   },
   "file_extension": ".py",
   "mimetype": "text/x-python",
   "name": "python",
   "nbconvert_exporter": "python",
   "pygments_lexer": "ipython3",
   "version": "3.8.8"
  }
 },
 "nbformat": 4,
 "nbformat_minor": 4
}
