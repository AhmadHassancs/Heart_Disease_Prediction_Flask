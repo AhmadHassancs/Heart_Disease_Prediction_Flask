{
 "cells": [
  {
   "cell_type": "markdown",
   "metadata": {
    "colab_type": "text",
    "id": "t9GmfBkocFUB"
   },
   "source": [
    "# Heart Disease Prediction Project"
   ]
  },
  {
   "cell_type": "markdown",
   "metadata": {
    "colab_type": "text",
    "id": "kWJ28wlEcFUE"
   },
   "source": [
    "## Overview\n",
    "\n",
    "In this project, I will go through these steps in order to build a heart disease classifier. To build the heart disease classifier by using [UCI heart disease](https://archive.ics.uci.edu/ml/datasets/statlog+(heart)) dataset. \n"
   ]
  },
  {
   "cell_type": "markdown",
   "metadata": {
    "colab_type": "text",
    "id": "kfx2DkF7cFUI"
   },
   "source": [
    "### Dataset\n",
    "\n",
    "The dataset has 14 attributes:\n",
    " \n",
    "* **age:** age in years.\n",
    "\n",
    "* **sex:** sex (1 = male; 0 = female).\n",
    "\n",
    "* **cp:** chest pain type (Value 0: typical angina; Value 1: atypical angina; Value 2: non-anginal pain; Value 3: asymptomatic).\n",
    "\n",
    "* **trestbps:** resting blood pressure in mm Hg on admission to the hospital.\n",
    "\n",
    "* **chol:** serum cholestoral in mg/dl.\n",
    "\n",
    "* **fbs:** fasting blood sugar > 120 mg/dl (1 = true; 0 = false).\n",
    "\n",
    "* **restecg:** resting electrocardiographic results (Value 0: normal; Value 1: having ST-T wave abnormality; Value 2: probable or definite left ventricular hypertrophy).\n",
    "\n",
    "* **thalach:** maximum heart rate achieved.\n",
    "\n",
    "* **exang:** exercise induced angina (1 = yes; 0 = no)\n",
    "\n",
    "* **oldpeak:** ST depression induced by exercise relative to rest.\n",
    "\n",
    "* **slope:** the slope of the peak exercise ST segment (Value 0: upsloping; Value 1: flat; Value 2: downsloping).\n",
    "\n",
    "* **ca:** number of major vessels (0-3) colored by flourosopy.\n",
    "\n",
    "* **thal:** thalassemia (3 = normal; 6 = fixed defect; 7 = reversable defect).\n",
    "\n",
    "* **target:** heart disease (1 = no, 2 = yes)\n"
   ]
  },
  {
   "cell_type": "markdown",
   "metadata": {},
   "source": [
    "## Import Libraries"
   ]
  },
  {
   "cell_type": "code",
   "execution_count": 1,
   "metadata": {
    "colab": {},
    "colab_type": "code",
    "id": "U_NLHBUJcFUQ"
   },
   "outputs": [],
   "source": [
    "# Import needed libraries\n",
    "\n",
    "import pandas as pd\n",
    "import numpy as np\n",
    "import matplotlib.pyplot as plt\n",
    "\n",
    "from sklearn.svm import SVC\n",
    "from sklearn.tree import DecisionTreeClassifier\n",
    "from sklearn.ensemble import RandomForestClassifier, AdaBoostClassifier, GradientBoostingClassifier\n",
    "from sklearn.model_selection import train_test_split, GridSearchCV\n",
    "from sklearn.metrics import accuracy_score, confusion_matrix, classification_report, make_scorer\n",
    "\n",
    "# to save the best model.\n",
    "import pickle"
   ]
  },
  {
   "cell_type": "markdown",
   "metadata": {},
   "source": [
    "# 1: Prepare Data for Machine Learning"
   ]
  },
  {
   "cell_type": "code",
   "execution_count": 2,
   "metadata": {},
   "outputs": [],
   "source": [
    "# Read data in the excel file\n",
    "df = pd.read_csv('data.csv')"
   ]
  },
  {
   "cell_type": "code",
   "execution_count": 3,
   "metadata": {},
   "outputs": [],
   "source": [
    "# Initialize data and target\n",
    "target = df['target']\n",
    "features = df.drop(['target'], axis = 1)"
   ]
  },
  {
   "cell_type": "code",
   "execution_count": 4,
   "metadata": {},
   "outputs": [],
   "source": [
    "# Split the data into training set and testing set\n",
    "X_train, X_test, y_train, y_test = train_test_split(features, target, test_size = 0.2, random_state = 0)"
   ]
  },
  {
   "cell_type": "markdown",
   "metadata": {
    "colab_type": "text",
    "id": "zE3ylECBcFXG"
   },
   "source": [
    "Here, I will use the below machine learning algorithms then I will select the best one based on its classification report.\n",
    "\n",
    "* Support Vector Machine \n",
    "* Random Forest\n",
    "* Ada Boost\n",
    "* Gradient Boosting\n"
   ]
  },
  {
   "cell_type": "markdown",
   "metadata": {},
   "source": [
    "# 2: Train and Evaluate Models"
   ]
  },
  {
   "cell_type": "code",
   "execution_count": 5,
   "metadata": {},
   "outputs": [],
   "source": [
    "# Train and evaluate model\n",
    "def fit_eval_model(model, train_features, y_train, test_features, y_test):\n",
    "    \n",
    "    \"\"\"\n",
    "    Function: train and evaluate a machine learning classifier.\n",
    "    Args:\n",
    "      model: machine learning classifier\n",
    "      train_features: train data extracted features\n",
    "      y_train: train data lables\n",
    "      test_features: train data extracted features\n",
    "      y_test: train data lables\n",
    "    Return:\n",
    "      results(dictionary): a dictionary of classification report\n",
    "    \"\"\"\n",
    "    results = {}\n",
    "    \n",
    "    # Train the model\n",
    "    model.fit(train_features, y_train)\n",
    "    \n",
    "    # Test the model\n",
    "    train_predicted = model.predict(train_features)\n",
    "    test_predicted = model.predict(test_features)\n",
    "    \n",
    "     # Classification report and Confusion Matrix\n",
    "    results['classification_report'] = classification_report(y_test, test_predicted)\n",
    "    results['confusion_matrix'] = confusion_matrix(y_test, test_predicted)\n",
    "        \n",
    "    return results\n",
    "    "
   ]
  },
  {
   "cell_type": "code",
   "execution_count": 17,
   "metadata": {},
   "outputs": [],
   "source": [
    "# Initialize the models\n",
    "sv = SVC(random_state = 1)\n",
    "rf = RandomForestClassifier(random_state = 1)\n",
    "ab = AdaBoostClassifier(random_state = 1)\n",
    "gb = GradientBoostingClassifier(random_state = 1)\n",
    "\n",
    "\n",
    "# Fit and evaluate models\n",
    "results = {}\n",
    "for cls in [sv, rf, ab, gb]:\n",
    "    cls_name = cls.__class__.__name__\n",
    "    results[cls_name] = {}\n",
    "    results[cls_name] = fit_eval_model(cls, X_train, y_train, X_test, y_test)\n",
    "    "
   ]
  },
  {
   "cell_type": "code",
   "execution_count": 7,
   "metadata": {},
   "outputs": [
    {
     "name": "stdout",
     "output_type": "stream",
     "text": [
      "SVC\n",
      "\n",
      "classification_report :\n",
      "              precision    recall  f1-score   support\n",
      "\n",
      "           1       0.71      0.90      0.79        30\n",
      "           2       0.81      0.54      0.65        24\n",
      "\n",
      "    accuracy                           0.74        54\n",
      "   macro avg       0.76      0.72      0.72        54\n",
      "weighted avg       0.76      0.74      0.73        54\n",
      "\n",
      "\n",
      "confusion_matrix :\n",
      "[[27  3]\n",
      " [11 13]]\n",
      "\n",
      "-----\n",
      "\n",
      "RandomForestClassifier\n",
      "\n",
      "classification_report :\n",
      "              precision    recall  f1-score   support\n",
      "\n",
      "           1       0.76      0.73      0.75        30\n",
      "           2       0.68      0.71      0.69        24\n",
      "\n",
      "    accuracy                           0.72        54\n",
      "   macro avg       0.72      0.72      0.72        54\n",
      "weighted avg       0.72      0.72      0.72        54\n",
      "\n",
      "\n",
      "confusion_matrix :\n",
      "[[22  8]\n",
      " [ 7 17]]\n",
      "\n",
      "-----\n",
      "\n",
      "AdaBoostClassifier\n",
      "\n",
      "classification_report :\n",
      "              precision    recall  f1-score   support\n",
      "\n",
      "           1       0.75      0.80      0.77        30\n",
      "           2       0.73      0.67      0.70        24\n",
      "\n",
      "    accuracy                           0.74        54\n",
      "   macro avg       0.74      0.73      0.73        54\n",
      "weighted avg       0.74      0.74      0.74        54\n",
      "\n",
      "\n",
      "confusion_matrix :\n",
      "[[24  6]\n",
      " [ 8 16]]\n",
      "\n",
      "-----\n",
      "\n",
      "GradientBoostingClassifier\n",
      "\n",
      "classification_report :\n",
      "              precision    recall  f1-score   support\n",
      "\n",
      "           1       0.79      0.73      0.76        30\n",
      "           2       0.69      0.75      0.72        24\n",
      "\n",
      "    accuracy                           0.74        54\n",
      "   macro avg       0.74      0.74      0.74        54\n",
      "weighted avg       0.74      0.74      0.74        54\n",
      "\n",
      "\n",
      "confusion_matrix :\n",
      "[[22  8]\n",
      " [ 6 18]]\n",
      "\n",
      "-----\n",
      "\n"
     ]
    }
   ],
   "source": [
    "# Print classifiers results\n",
    "for result in results:\n",
    "    print (result)\n",
    "    print()\n",
    "    for i in results[result]:\n",
    "        print (i, ':')\n",
    "        print(results[result][i])\n",
    "        print()\n",
    "    print ('-----')\n",
    "    print()"
   ]
  },
  {
   "cell_type": "markdown",
   "metadata": {},
   "source": [
    "#### Selecting the Classifier\n",
    "From the results, the best classifier is GradientBoostingClassifier. \n",
    "\n"
   ]
  },
  {
   "cell_type": "markdown",
   "metadata": {},
   "source": [
    "# 2.1: The Important Features"
   ]
  },
  {
   "cell_type": "code",
   "execution_count": 8,
   "metadata": {},
   "outputs": [
    {
     "name": "stdout",
     "output_type": "stream",
     "text": [
      "Feature: age, Score: 0.06003\n",
      "Feature: sex, Score: 0.01170\n",
      "Feature: cp, Score: 0.28587\n",
      "Feature: trestbps, Score: 0.03719\n",
      "Feature: chol, Score: 0.06027\n",
      "Feature: fbs, Score: 0.00082\n",
      "Feature: restecg, Score: 0.00376\n",
      "Feature: thalach, Score: 0.06526\n",
      "Feature: exang, Score: 0.02465\n",
      "Feature: oldpeak, Score: 0.13452\n",
      "Feature: slope, Score: 0.04946\n",
      "Feature: ca, Score: 0.17047\n",
      "Feature: thal, Score: 0.09600\n"
     ]
    },
    {
     "data": {
      "image/png": "[encoded data removed]",
      "text/plain": [
       "<Figure size 432x288 with 1 Axes>"
      ]
     },
     "metadata": {
      "needs_background": "light"
     },
     "output_type": "display_data"
    }
   ],
   "source": [
    "# get importance\n",
    "importance = gb.feature_importances_\n",
    "\n",
    "# summarize feature importance\n",
    "for i,v in enumerate(importance):\n",
    "    print('Feature: %s, Score: %.5f' % (features.columns[i], v))\n",
    "    \n",
    "# plot feature importance\n",
    "plt.bar([x for x in range(len(importance))], importance)\n",
    "\n",
    "plt.show()"
   ]
  },
  {
   "cell_type": "markdown",
   "metadata": {
    "colab_type": "text",
    "id": "udUpRbbkcFd0"
   },
   "source": [
    "# 3: Save Model\n",
    "\n",
    " Finally, I will save the GradientBoostingClassifier model to use it later. "
   ]
  },
  {
   "cell_type": "code",
   "execution_count": 9,
   "metadata": {},
   "outputs": [],
   "source": [
    "# Save the model as serialized object pickle\n",
    "with open('model.pkl', 'wb') as file:\n",
    "    pickle.dump(gb, file)"
   ]
  },
  {
   "cell_type": "markdown",
   "metadata": {
    "colab_type": "text",
    "id": "TlYnVuBPcFd1"
   },
   "source": [
    "# 4: Summary"
   ]
  },
  {
   "cell_type": "markdown",
   "metadata": {
    "colab_type": "text",
    "id": "75TpOxNAcFd2"
   },
   "source": [
    "As a summary, in this note book, I built four models for heart disease classification. Finally, I selected the best model and save it to use it latter."
   ]
  }
 ],
 "metadata": {
  "colab": {
   "collapsed_sections": [],
   "name": "preference_prodcuts.ipynb",
   "provenance": [],
   "toc_visible": true
  },
  "kernelspec": {
   "display_name": "Python 3",
   "language": "python",
   "name": "python3"
  },
  "language_info": {
   "codemirror_mode": {
    "name": "ipython",
    "version": 3
   },
   "file_extension": ".py",
   "mimetype": "text/x-python",
   "name": "python",
   "nbconvert_exporter": "python",
   "pygments_lexer": "ipython3",
   "version": "3.8.8"
  }
 },
 "nbformat": 4,
 "nbformat_minor": 1
}
